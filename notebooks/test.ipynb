{
 "cells": [
  {
   "cell_type": "code",
   "execution_count": 1,
   "id": "dadaf0d0",
   "metadata": {},
   "outputs": [],
   "source": [
    "import matplotlib.pyplot as plt\n",
    "import numpy as np\n",
    "\n",
    "from quark.app import Recipe, s  # (1)!"
   ]
  },
  {
   "cell_type": "code",
   "execution_count": 16,
   "id": "a6111693",
   "metadata": {},
   "outputs": [
    {
     "name": "stderr",
     "output_type": "stream",
     "text": [
      "\u001b[32m2025-07-10 12:23:15.296\u001b[0m | \u001b[1mINFO    \u001b[0m | \u001b[36mquark.app\u001b[0m:\u001b[36mlogin\u001b[0m:\u001b[36m171\u001b[0m - \u001b[1mLOGINED[baqis], Checkpoint[2025-07-10 12:22:55 Thu] loaded from: /Users/hqubit/QCLab_hqubit/home/cfg/sample_config.ckpt\u001b[0m\n"
     ]
    },
    {
     "name": "stdout",
     "output_type": "stream",
     "text": [
      "\u001b[1;31m[2025-07-10 12:23:15.222][QuarkServer][CRITICAL💀] @SEND: NoneType[Errno 54] Connection reset by peer\u001b[0m\n"
     ]
    },
    {
     "data": {
      "text/plain": [
       "'QuarkServer started!'"
      ]
     },
     "execution_count": 16,
     "metadata": {},
     "output_type": "execute_result"
    }
   ],
   "source": [
    "s.login('baqis') # 登录 (1)\n",
    "\n",
    "# s.signup('baqis','sample_config')\n",
    "\n",
    "s.start() # 打开设备 (3)"
   ]
  },
  {
   "cell_type": "code",
   "execution_count": 19,
   "id": "961c3043",
   "metadata": {},
   "outputs": [],
   "source": [
    "def S21(qubits: tuple[str], freq:float, ctx=None) -> list: # \n",
    "    \"\"\"qlisp线路函数。ctx为编译所需上下文，主要用于对cfg表进行查询等操作。\n",
    "    \"\"\"\n",
    "    cc = [(('Measure', i, ), q) for i, q in enumerate(qubits)]\n",
    "    return cc\n",
    "\n",
    "rcp = Recipe('s21', signal='iq_avg') # 任务定义\n",
    "rcp.circuit = S21 # 线路指定 (1)\n",
    "\n",
    "qubits = tuple(['Q0', 'Q4', 'Q9'])\n",
    "rcp['qubits'] = qubits\n",
    "rcp['freq'] = np.linspace(-5, 5, 101) * 1e6 # (2)\n",
    "\n",
    "for q in qubits: # 参数设置 (3)\n",
    "    rcp[f'gate.Measure.{q}.params.frequency'] = rcp['freq'] + \\\n",
    "        s.query(f'gate.Measure.{q}.params.frequency') # 变量关联\n",
    "    rcp[f'gate.Measure.{q}.default_type'] = 'default' # 临时设置"
   ]
  },
  {
   "cell_type": "code",
   "execution_count": 21,
   "id": "e7fc3a30",
   "metadata": {},
   "outputs": [
    {
     "data": {
      "application/vnd.jupyter.widget-view+json": {
       "model_id": "2a223065ece345959f63b10793a113b5",
       "version_major": 2,
       "version_minor": 0
      },
      "text/plain": [
       "baqis:/s21   0%|          |0/101 [00:00<?, ?it/s, MainThread]"
      ]
     },
     "metadata": {},
     "output_type": "display_data"
    },
    {
     "name": "stdout",
     "output_type": "stream",
     "text": [
      "\u001b[1;31m[2025-07-10 12:27:01.186][QuarkViewer][CRITICAL💀] @SEND: NoneType[Errno 54] Connection reset by peer\u001b[0m\n"
     ]
    }
   ],
   "source": [
    "s21 = s.submit(rcp.export(), block=False, preview=['M1'], plot=True) # (1)\n",
    "s21.bar(interval=1)  # (2)"
   ]
  }
 ],
 "metadata": {
  "kernelspec": {
   "display_name": ".venv",
   "language": "python",
   "name": "python3"
  },
  "language_info": {
   "codemirror_mode": {
    "name": "ipython",
    "version": 3
   },
   "file_extension": ".py",
   "mimetype": "text/x-python",
   "name": "python",
   "nbconvert_exporter": "python",
   "pygments_lexer": "ipython3",
   "version": "3.12.10"
  }
 },
 "nbformat": 4,
 "nbformat_minor": 5
}
