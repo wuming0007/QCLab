{
 "cells": [
  {
   "cell_type": "markdown",
   "metadata": {},
   "source": [
    "### ***update quark***\n",
    "依次执行以下命令\n",
    "```bash\n",
    "pip3 install -U quarkstudio --force-reinstall\n",
    "quark update --server\n",
    "quark update --studio\n",
    "```"
   ]
  },
  {
   "cell_type": "markdown",
   "metadata": {},
   "source": [
    "### ***download demo***\n",
    "1. **guide**: ***https://quarkstudio.readthedocs.io/en/latest/usage/quark/***\n",
    "1. **notebook**: ***https://quarkstudio.readthedocs.io/en/latest/usage/code/demo/***\n",
    "2. **circuit**：***https://quarkstudio.readthedocs.io/en/latest/usage/code/circuit/***\n",
    "2. 下载以上文件至任意位置，按其中说明运行"
   ]
  },
  {
   "cell_type": "markdown",
   "metadata": {},
   "source": [
    "### ***update python on Ubuntu***\n",
    "\n",
    "\n",
    "1. Add additional repository to download python 3.11\n",
    "    ```bash\n",
    "    sudo add-apt-repository ppa:deadsnakes/ppa\n",
    "    ```\n",
    "\n",
    "2. This might take more than few minutes\n",
    "    ```bash\n",
    "    sudo apt update\n",
    "    sudo apt upgrade\n",
    "    ```\n",
    "\n",
    "3. Install python 3.11\n",
    "    ```bash\n",
    "    sudo apt-get install python3.11\n",
    "    ```\n",
    "\n",
    "4. check and change python3 version\n",
    "    ```bash\n",
    "    python3 --version\n",
    "    python3.11 --version\n",
    "    ```\n",
    "\n",
    "    ```bash\n",
    "    sudo update-alternatives --install /usr/bin/python3 python3 /usr/bin/python3.10 1\n",
    "    sudo update-alternatives --install /usr/bin/python3 python3 /usr/bin/python3.11 2\n",
    "\n",
    "    sudo update-alternatives --config python3\n",
    "    ```\n",
    "    ***choose 2 for python 3.11***"
   ]
  }
 ],
 "metadata": {
  "kernelspec": {
   "display_name": "Python 3",
   "language": "python",
   "name": "python3"
  },
  "language_info": {
   "codemirror_mode": {
    "name": "ipython",
    "version": 3
   },
   "file_extension": ".py",
   "mimetype": "text/x-python",
   "name": "python",
   "nbconvert_exporter": "python",
   "pygments_lexer": "ipython3",
   "version": "3.12.3"
  }
 },
 "nbformat": 4,
 "nbformat_minor": 2
}
